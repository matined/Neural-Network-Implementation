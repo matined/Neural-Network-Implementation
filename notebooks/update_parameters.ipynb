{
 "cells": [
  {
   "cell_type": "code",
   "execution_count": 1,
   "metadata": {},
   "outputs": [],
   "source": [
    "import numpy as np"
   ]
  },
  {
   "cell_type": "code",
   "execution_count": 3,
   "metadata": {},
   "outputs": [],
   "source": [
    "def update_parameters(params: dict, grads: dict, learning_rate: float = 0.0075):\n",
    "    \"\"\"\n",
    "    Update parameters using gradient descent.\n",
    "\n",
    "    Parameters\n",
    "    ----------\n",
    "    params : dictionary\n",
    "        Parameters W1...WL, b1...bL\n",
    "\n",
    "    grads : dictionary\n",
    "        Output of the BP, gradients dA1...dAL, dW1...dWL, db1...dbL\n",
    "    \n",
    "    learning_rate : float\n",
    "        A learning rate.\n",
    "\n",
    "    Returns\n",
    "    -------\n",
    "    parameters : dictionary\n",
    "        Updated parameters.\n",
    "    \"\"\"\n",
    "    parameters = params.copy()\n",
    "    L = len(parameters) // 2\n",
    "\n",
    "    for l in range(L):\n",
    "        parameters[\"W\" + str(l+1)] = parameters[\"W\" + str(l+1)] - learning_rate * grads['dW' + str(l+1)]\n",
    "        parameters[\"b\" + str(l+1)] = parameters[\"b\" + str(l+1)] - learning_rate * grads['db' + str(l+1)]\n",
    "    \n",
    "    return parameters"
   ]
  }
 ],
 "metadata": {
  "interpreter": {
   "hash": "aa87bef9c302eb7f9e205196104a829232ac0295b4f8169b8d0ff13e707d6bb3"
  },
  "kernelspec": {
   "display_name": "Python 3.9.7 64-bit ('NN_impl': conda)",
   "language": "python",
   "name": "python3"
  },
  "language_info": {
   "codemirror_mode": {
    "name": "ipython",
    "version": 3
   },
   "file_extension": ".py",
   "mimetype": "text/x-python",
   "name": "python",
   "nbconvert_exporter": "python",
   "pygments_lexer": "ipython3",
   "version": "3.9.7"
  },
  "orig_nbformat": 4
 },
 "nbformat": 4,
 "nbformat_minor": 2
}
