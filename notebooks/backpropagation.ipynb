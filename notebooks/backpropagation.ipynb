{
 "cells": [
  {
   "cell_type": "code",
   "execution_count": 2,
   "metadata": {},
   "outputs": [],
   "source": [
    "import numpy as npz\n",
    "import sys\n",
    "sys.path.append('../')\n",
    "from utils import *"
   ]
  },
  {
   "cell_type": "code",
   "execution_count": 4,
   "metadata": {},
   "outputs": [],
   "source": [
    "def backpropagation_step(dA: np.ndarray, cache: dict, activation: str = 'relu') -> tuple:\n",
    "    \"\"\"\n",
    "    Performs a backpropagation step, computes gradients.\n",
    "\n",
    "    Parameters\n",
    "    ----------\n",
    "    dA : np.ndarray\n",
    "        Gradient computed ealier.\n",
    "\n",
    "    cache : dictionary\n",
    "        Tuple of values A_prev, W, b and Z calculated during the forward pass.\n",
    "    \n",
    "    Returns\n",
    "    -------\n",
    "    dA_prev : np.ndarray\n",
    "        Gradient of the cost w.r.t the activation\n",
    "\n",
    "    dW : np.ndarray\n",
    "        Gradient of the cost w.r.t W\n",
    "        \n",
    "    db : np.ndarray\n",
    "         Gradient of the cost w.r.t b \n",
    "    \"\"\"\n",
    "    A_prev, W, b, Z = cache['A_prev'], cache['W'], cache['b'], cache['Z']\n",
    "    m = A_prev.shape[1]\n",
    "\n",
    "    if activation == 'relu':\n",
    "        dZ = dA * relu_backward(dA, Z)\n",
    "    elif activation == 'sigmoid':\n",
    "        dZ = dA * sigmoid_backward(dA, Z)\n",
    "\n",
    "    dW = dZ @ A_prev.T / m\n",
    "    db = np.sum(dZ, axis=1, keepdims=True) / m\n",
    "    dA_prev = W.T @ dZ\n",
    "\n",
    "    return dA_prev, dW, db"
   ]
  },
  {
   "cell_type": "code",
   "execution_count": null,
   "metadata": {},
   "outputs": [],
   "source": [
    "def backpropagation(AL: np.ndarray, y: np.ndarray, caches: list, number_of_layers: int):\n",
    "    \"\"\"\n",
    "    Perfoms a full backpropagation.\n",
    "\n",
    "    Parameters\n",
    "    ----------\n",
    "    AL : np.ndarray\n",
    "        Output of the forward propagation\n",
    "    \n",
    "    y : nd.ndarray\n",
    "        Target prediction values\n",
    "    \n",
    "    caches : dictionary\n",
    "        List of caches from the forward propagation\n",
    "\n",
    "    number_of_layers : int\n",
    "        A number of layers\n",
    "\n",
    "    Returns\n",
    "    -------\n",
    "    grads : dictionary\n",
    "        A dictionary of gradients from every step of BP\n",
    "    \"\"\"\n",
    "    grads = {}\n",
    "    m = AL.shape[1]\n",
    "    y = y.reshape(AL.shape)\n",
    "\n",
    "    dAL = -(y / AL - (1 - y) / (1 - AL))\n",
    "\n",
    "    current_cache = caches[number_of_layers-1]\n",
    "    dA_prev_temp, dW_temp, db_temp = backpropagation_step(dAL, current_cache, 'sigmoid')\n",
    "    grads[\"dA\" + str(number_of_layers-1)] = dA_prev_temp\n",
    "    grads[\"dW\" + str(number_of_layers)] = dW_temp\n",
    "    grads[\"db\" + str(number_of_layers)] = db_temp\n",
    "\n",
    "    for l in reversed(range(number_of_layers-1)):\n",
    "        current_cache = caches[l]\n",
    "        dA_prev_temp, dW_temp, db_temp = backpropagation_step(dA_prev_temp, current_cache, 'relu')\n",
    "        grads[\"dA\" + str(l)] = dA_prev_temp\n",
    "        grads[\"dW\" + str(l + 1)] = dW_temp\n",
    "        grads[\"db\" + str(l + 1)] = db_temp\n",
    "\n",
    "    return grads"
   ]
  }
 ],
 "metadata": {
  "interpreter": {
   "hash": "aa87bef9c302eb7f9e205196104a829232ac0295b4f8169b8d0ff13e707d6bb3"
  },
  "kernelspec": {
   "display_name": "Python 3.9.7 64-bit ('NN_impl': conda)",
   "language": "python",
   "name": "python3"
  },
  "language_info": {
   "codemirror_mode": {
    "name": "ipython",
    "version": 3
   },
   "file_extension": ".py",
   "mimetype": "text/x-python",
   "name": "python",
   "nbconvert_exporter": "python",
   "pygments_lexer": "ipython3",
   "version": "3.9.7"
  },
  "orig_nbformat": 4
 },
 "nbformat": 4,
 "nbformat_minor": 2
}
