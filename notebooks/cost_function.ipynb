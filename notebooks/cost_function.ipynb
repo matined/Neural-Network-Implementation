{
 "cells": [
  {
   "cell_type": "code",
   "execution_count": 2,
   "metadata": {},
   "outputs": [],
   "source": [
    "import numpy as np"
   ]
  },
  {
   "cell_type": "code",
   "execution_count": 4,
   "metadata": {},
   "outputs": [],
   "source": [
    "def compute_cost(AL: np.ndarray, y: np.ndarray) -> float:\n",
    "    \"\"\"\n",
    "    Computes cost.\n",
    "\n",
    "    Parameters\n",
    "    ----------\n",
    "    AL : np.ndarray\n",
    "        Probabilities corresponding to the label predictions of shape (1, number_of_examples)\n",
    "    \n",
    "    y : np.ndarray\n",
    "        Target values of predictions of shape (1 , number_of_examples)\n",
    "\n",
    "    Returns\n",
    "    -------\n",
    "    cost : int\n",
    "        Cross-entropy cost\n",
    "    \"\"\"\n",
    "    m = y.shape[1]\n",
    "    cost = np.sum(y * np.log(AL) + (1+y) * np.log(1 - AL)) / (-m)\n",
    "    cost = np.squeeze(cost)\n",
    "\n",
    "    return cost"
   ]
  }
 ],
 "metadata": {
  "interpreter": {
   "hash": "aa87bef9c302eb7f9e205196104a829232ac0295b4f8169b8d0ff13e707d6bb3"
  },
  "kernelspec": {
   "display_name": "Python 3.9.7 64-bit ('NN_impl': conda)",
   "language": "python",
   "name": "python3"
  },
  "language_info": {
   "codemirror_mode": {
    "name": "ipython",
    "version": 3
   },
   "file_extension": ".py",
   "mimetype": "text/x-python",
   "name": "python",
   "nbconvert_exporter": "python",
   "pygments_lexer": "ipython3",
   "version": "3.9.7"
  },
  "orig_nbformat": 4
 },
 "nbformat": 4,
 "nbformat_minor": 2
}
