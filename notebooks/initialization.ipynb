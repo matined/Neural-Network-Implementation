{
 "cells": [
  {
   "cell_type": "code",
   "execution_count": 2,
   "metadata": {},
   "outputs": [],
   "source": [
    "import numpy as np"
   ]
  },
  {
   "cell_type": "code",
   "execution_count": null,
   "metadata": {},
   "outputs": [],
   "source": [
    "def process_data(X_train: np.ndarray, X_test: np.ndarray, y_train: np.ndarray, y_test: np.ndarray) -> dict:\n",
    "    \"\"\"\n",
    "    Reshapes the input arrays for the simplicity of implementation and creates a few data parameters to use later.\n",
    "\n",
    "    Parameters\n",
    "    ----------\n",
    "    X_train : np.ndarray\n",
    "        Training set, numpy array of shape (number_of_training_examples, number_of_features) \n",
    "    \n",
    "    X_test : np.ndarray\n",
    "        Test set, numpy array of shape (number_of_test_examples, number_of_features) \n",
    "\n",
    "    y_train : np.ndarray\n",
    "        Target values for the training set, numpy array of shape (number_of_training_examples, 1)\n",
    "\n",
    "    y_test : np.ndarray\n",
    "        Target values for the test set, numpy array of shape (number_of_test_examples, 1)\n",
    "\n",
    "    Returns\n",
    "    -------\n",
    "    data : dictionary\n",
    "        A dictionary containing processed data:\n",
    "            X_train : numpy array of shape (number_of_features, number_of_training_examples) \n",
    "            X_test : numpy array of shape (number_of_features, number_of_test_examples) \n",
    "            y_train : numpy array of shape (1, number_of_training_examples) \n",
    "            y_test : numpy array of shape (1, number_of_test_examples) \n",
    "            m_train : number_of_training_examples\n",
    "            m_test : number_of_test_examples\n",
    "            n_x : number_of_features\n",
    "    \"\"\"\n",
    "\n",
    "    X_train = X_train.T\n",
    "    X_test = X_test.T\n",
    "    \n",
    "    m_train = X_train.shape[1]\n",
    "    m_test = X_test.shape[1]\n",
    "    n_x = X_train.shape[0]\n",
    "\n",
    "    y_train = y_train.reshape(1, m_train)\n",
    "    y_test = y_test.reshape(1, m_test)\n",
    "\n",
    "    data = {'X_train':  X_train,\n",
    "            'X_test':   X_test,\n",
    "            'y_train':  y_train,\n",
    "            'y_test':   y_test,\n",
    "            'm_train':  m_train,\n",
    "            'm_test':   m_test,\n",
    "            'n_x':      n_x }\n",
    "    \n",
    "    return data\n"
   ]
  },
  {
   "cell_type": "code",
   "execution_count": null,
   "metadata": {},
   "outputs": [],
   "source": [
    "def initialize_parameters(layer_dims: tuple) -> dict:\n",
    "    \"\"\"\n",
    "    Randomly initializes parameters for the NN.\n",
    "\n",
    "    Parameters\n",
    "    ----------\n",
    "    layer_dims : tuple\n",
    "        A tuple containing numbers of units in the consecutive layers\n",
    "\n",
    "    Returns\n",
    "    -------\n",
    "    parameters : dictionary\n",
    "        A dictionary containing parameters W1...WL, b1...bL for the NN.\n",
    "            Wn : numpy array of weights for n-th layer\n",
    "            bn : numpy array of biases for n-th layer\n",
    "    \"\"\"\n",
    "    L = len(layer_dims) # total number of layers\n",
    "    parameters = {}\n",
    "    \n",
    "    for l in range(1, L):\n",
    "        parameters['W' + str(l)] = np.random.randn(layer_dims[l], layer_dims[l-1]) * 0.01\n",
    "        parameters['b' + str(l)] = np.zeros((layer_dims[l], 1))\n",
    "\n",
    "    return parameters"
   ]
  }
 ],
 "metadata": {
  "interpreter": {
   "hash": "aa87bef9c302eb7f9e205196104a829232ac0295b4f8169b8d0ff13e707d6bb3"
  },
  "kernelspec": {
   "display_name": "Python 3.9.7 64-bit ('NN_impl': conda)",
   "language": "python",
   "name": "python3"
  },
  "language_info": {
   "codemirror_mode": {
    "name": "ipython",
    "version": 3
   },
   "file_extension": ".py",
   "mimetype": "text/x-python",
   "name": "python",
   "nbconvert_exporter": "python",
   "pygments_lexer": "ipython3",
   "version": "3.9.7"
  },
  "orig_nbformat": 4
 },
 "nbformat": 4,
 "nbformat_minor": 2
}
